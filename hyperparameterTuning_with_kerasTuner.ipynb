{
  "nbformat": 4,
  "nbformat_minor": 0,
  "metadata": {
    "colab": {
      "provenance": [],
      "gpuType": "T4",
      "authorship_tag": "ABX9TyPLKfa3xhsJECwTwBOYVbGn",
      "include_colab_link": true
    },
    "kernelspec": {
      "name": "python3",
      "display_name": "Python 3"
    },
    "language_info": {
      "name": "python"
    },
    "accelerator": "GPU"
  },
  "cells": [
    {
      "cell_type": "markdown",
      "metadata": {
        "id": "view-in-github",
        "colab_type": "text"
      },
      "source": [
        "<a href=\"https://colab.research.google.com/github/rashida048/hypermeter-tuning/blob/main/hyperparameterTuning_with_kerasTuner.ipynb\" target=\"_parent\"><img src=\"https://colab.research.google.com/assets/colab-badge.svg\" alt=\"Open In Colab\"/></a>"
      ]
    },
    {
      "cell_type": "code",
      "execution_count": 1,
      "metadata": {
        "colab": {
          "base_uri": "https://localhost:8080/"
        },
        "id": "Pv1nF_KldyQK",
        "outputId": "3fb5d9c2-01b6-45b0-dda8-d34b82a2a910"
      },
      "outputs": [
        {
          "output_type": "stream",
          "name": "stdout",
          "text": [
            "--2023-06-06 02:21:50--  https://pyimagesearch-code-downloads.s3-us-west-2.amazonaws.com/hyperparameter-keras-tuner/hyperparameter-keras-tuner.zip\n",
            "Resolving pyimagesearch-code-downloads.s3-us-west-2.amazonaws.com (pyimagesearch-code-downloads.s3-us-west-2.amazonaws.com)... 52.92.147.178, 3.5.79.21, 52.92.128.58, ...\n",
            "Connecting to pyimagesearch-code-downloads.s3-us-west-2.amazonaws.com (pyimagesearch-code-downloads.s3-us-west-2.amazonaws.com)|52.92.147.178|:443... connected.\n",
            "HTTP request sent, awaiting response... 200 OK\n",
            "Length: 142561 (139K) [binary/octet-stream]\n",
            "Saving to: ‘hyperparameter-keras-tuner.zip’\n",
            "\n",
            "hyperparameter-kera 100%[===================>] 139.22K   570KB/s    in 0.2s    \n",
            "\n",
            "2023-06-06 02:21:51 (570 KB/s) - ‘hyperparameter-keras-tuner.zip’ saved [142561/142561]\n",
            "\n",
            "/content/hyperparameter-keras-tuner\n"
          ]
        }
      ],
      "source": [
        "!wget https://pyimagesearch-code-downloads.s3-us-west-2.amazonaws.com/hyperparameter-keras-tuner/hyperparameter-keras-tuner.zip\n",
        "!unzip -qq hyperparameter-keras-tuner.zip\n",
        "%cd hyperparameter-keras-tuner"
      ]
    },
    {
      "cell_type": "code",
      "source": [
        "!pip install keras_tuner"
      ],
      "metadata": {
        "colab": {
          "base_uri": "https://localhost:8080/"
        },
        "id": "vbPvobY4edGS",
        "outputId": "a2c9f161-9f38-4f9d-c687-d72cd686e18a"
      },
      "execution_count": 2,
      "outputs": [
        {
          "output_type": "stream",
          "name": "stdout",
          "text": [
            "Looking in indexes: https://pypi.org/simple, https://us-python.pkg.dev/colab-wheels/public/simple/\n",
            "Collecting keras_tuner\n",
            "  Downloading keras_tuner-1.3.5-py3-none-any.whl (176 kB)\n",
            "\u001b[2K     \u001b[90m━━━━━━━━━━━━━━━━━━━━━━━━━━━━━━━━━━━━━━━\u001b[0m \u001b[32m176.1/176.1 kB\u001b[0m \u001b[31m4.7 MB/s\u001b[0m eta \u001b[36m0:00:00\u001b[0m\n",
            "\u001b[?25hRequirement already satisfied: packaging in /usr/local/lib/python3.10/dist-packages (from keras_tuner) (23.1)\n",
            "Requirement already satisfied: requests in /usr/local/lib/python3.10/dist-packages (from keras_tuner) (2.27.1)\n",
            "Collecting kt-legacy (from keras_tuner)\n",
            "  Downloading kt_legacy-1.0.5-py3-none-any.whl (9.6 kB)\n",
            "Requirement already satisfied: urllib3<1.27,>=1.21.1 in /usr/local/lib/python3.10/dist-packages (from requests->keras_tuner) (1.26.15)\n",
            "Requirement already satisfied: certifi>=2017.4.17 in /usr/local/lib/python3.10/dist-packages (from requests->keras_tuner) (2022.12.7)\n",
            "Requirement already satisfied: charset-normalizer~=2.0.0 in /usr/local/lib/python3.10/dist-packages (from requests->keras_tuner) (2.0.12)\n",
            "Requirement already satisfied: idna<4,>=2.5 in /usr/local/lib/python3.10/dist-packages (from requests->keras_tuner) (3.4)\n",
            "Installing collected packages: kt-legacy, keras_tuner\n",
            "Successfully installed keras_tuner-1.3.5 kt-legacy-1.0.5\n"
          ]
        }
      ]
    },
    {
      "cell_type": "code",
      "source": [
        "import matplotlib\n",
        "matplotlib.use(\"Agg\")\n",
        "\n",
        "# import the necessary package\n",
        "from tensorflow.keras.callbacks import EarlyStopping\n",
        "from tensorflow.keras.models import Sequential\n",
        "from tensorflow.keras.layers import BatchNormalization\n",
        "from tensorflow.keras.layers import Conv2D\n",
        "from tensorflow.keras.layers import MaxPooling2D\n",
        "from tensorflow.keras.layers import Activation\n",
        "from tensorflow.keras.layers import Flatten\n",
        "from tensorflow.keras.layers import Dropout\n",
        "from tensorflow.keras.layers import Dense\n",
        "from tensorflow.keras.optimizers import Adam\n",
        "from tensorflow.keras.datasets import fashion_mnist\n",
        "from tensorflow.keras.utils import to_categorical\n",
        "from tensorflow.keras import backend as K\n",
        "from sklearn.metrics import classification_report\n",
        "import matplotlib.pyplot as plt\n",
        "import keras_tuner as kt\n",
        "import numpy as np\n",
        "import argparse\n",
        "import cv2"
      ],
      "metadata": {
        "id": "nzcsa9v-eAYu"
      },
      "execution_count": 3,
      "outputs": []
    },
    {
      "cell_type": "code",
      "source": [
        "class Config:\n",
        "    # define the path to our output directory\n",
        "    OUTPUT_PATH = \"output\"\n",
        "\n",
        "    # initialize the input shape and number of classes\n",
        "    INPUT_SHAPE = (28, 28, 1)\n",
        "    NUM_CLASSES = 10\n",
        "\n",
        "    # define the total number of epochs to train, batch size, and the\n",
        "    # early stopping patience\n",
        "    EPOCHS = 50\n",
        "    BS = 32\n",
        "    EARLY_STOPPING_PATIENCE = 5\n",
        "\n",
        "# instantiate an object of the configuration class\n",
        "config = Config()"
      ],
      "metadata": {
        "id": "HBW5_8bZeEXf"
      },
      "execution_count": 4,
      "outputs": []
    },
    {
      "cell_type": "code",
      "source": [
        "def save_plot(H, path):\n",
        "\t# plot the training loss and accuracy\n",
        "\tplt.style.use(\"ggplot\")\n",
        "\tplt.figure()\n",
        "\tplt.plot(H.history[\"loss\"], label=\"train_loss\")\n",
        "\tplt.plot(H.history[\"val_loss\"], label=\"val_loss\")\n",
        "\tplt.plot(H.history[\"accuracy\"], label=\"train_acc\")\n",
        "\tplt.plot(H.history[\"val_accuracy\"], label=\"val_acc\")\n",
        "\tplt.title(\"Training Loss and Accuracy\")\n",
        "\tplt.xlabel(\"Epoch #\")\n",
        "\tplt.ylabel(\"Loss/Accuracy\")\n",
        "\tplt.legend()\n",
        "\tplt.savefig(path)"
      ],
      "metadata": {
        "id": "agaa2uIGeogQ"
      },
      "execution_count": 5,
      "outputs": []
    },
    {
      "cell_type": "code",
      "source": [
        "def build_model(hp):\n",
        "\t# initialize the model along with the input shape and channel\n",
        "\t# dimension\n",
        "\tmodel = Sequential()\n",
        "\tinputShape = config.INPUT_SHAPE\n",
        "\tchanDim = -1\n",
        "\n",
        "\t# first CONV => RELU => POOL layer set\n",
        "\tmodel.add(Conv2D(\n",
        "\t\thp.Int(\"conv_1\", min_value=32, max_value=96, step=32),\n",
        "\t\t(3, 3), padding=\"same\", input_shape=inputShape))\n",
        "\tmodel.add(Activation(\"relu\"))\n",
        "\tmodel.add(BatchNormalization(axis=chanDim))\n",
        "\tmodel.add(MaxPooling2D(pool_size=(2, 2)))\n",
        "\n",
        "\t# second CONV => RELU => POOL layer set\n",
        "\tmodel.add(Conv2D(\n",
        "\t\thp.Int(\"conv_2\", min_value=64, max_value=128, step=32),\n",
        "\t\t(3, 3), padding=\"same\"))\n",
        "\tmodel.add(Activation(\"relu\"))\n",
        "\tmodel.add(BatchNormalization(axis=chanDim))\n",
        "\tmodel.add(MaxPooling2D(pool_size=(2, 2)))\n",
        "\n",
        "\t# first (and only) set of FC => RELU layers\n",
        "\tmodel.add(Flatten())\n",
        "\tmodel.add(Dense(hp.Int(\"dense_units\", min_value=256,\n",
        "\t\tmax_value=768, step=256)))\n",
        "\tmodel.add(Activation(\"relu\"))\n",
        "\tmodel.add(BatchNormalization())\n",
        "\tmodel.add(Dropout(0.5))\n",
        "\n",
        "\t# softmax classifier\n",
        "\tmodel.add(Dense(config.NUM_CLASSES))\n",
        "\tmodel.add(Activation(\"softmax\"))\n",
        "\n",
        "\t# initialize the learning rate choices and optimizer\n",
        "\tlr = hp.Choice(\"learning_rate\",\n",
        "\t\tvalues=[1e-1, 1e-2, 1e-3])\n",
        "\topt = Adam(learning_rate=lr)\n",
        "\n",
        "\t# compile the model\n",
        "\tmodel.compile(optimizer=opt, loss=\"categorical_crossentropy\",\n",
        "\t\tmetrics=[\"accuracy\"])\n",
        "\n",
        "\t# return the model\n",
        "\treturn model"
      ],
      "metadata": {
        "id": "pRNmUJTOeuRE"
      },
      "execution_count": 6,
      "outputs": []
    },
    {
      "cell_type": "code",
      "source": [
        "args = {\n",
        "\t\"tuner\": \"random\",\n",
        "\t\"plot\": \"output/random_plot.png\"\n",
        "}"
      ],
      "metadata": {
        "id": "OrYsR8BCe5If"
      },
      "execution_count": 7,
      "outputs": []
    },
    {
      "cell_type": "code",
      "source": [
        "print(\"[INFO] loading Fashion MNIST...\")\n",
        "((trainX, trainY), (testX, testY)) = fashion_mnist.load_data()\n",
        "\n",
        "# add a channel dimension to the dataset\n",
        "trainX = trainX.reshape((trainX.shape[0], 28, 28, 1))\n",
        "testX = testX.reshape((testX.shape[0], 28, 28, 1))\n",
        "\n",
        "# scale data to the range of [0, 1]\n",
        "trainX = trainX.astype(\"float32\") / 255.0\n",
        "testX = testX.astype(\"float32\") / 255.0\n",
        "\n",
        "# one-hot encode the training and testing labels\n",
        "trainY = to_categorical(trainY, 10)\n",
        "testY = to_categorical(testY, 10)\n",
        "\n",
        "# initialize the label names\n",
        "labelNames = [\"top\", \"trouser\", \"pullover\", \"dress\", \"coat\",\n",
        "\t\"sandal\", \"shirt\", \"sneaker\", \"bag\", \"ankle boot\"]"
      ],
      "metadata": {
        "colab": {
          "base_uri": "https://localhost:8080/"
        },
        "id": "nWejU7JIe9zg",
        "outputId": "5ddbecff-59b1-4b5a-f8b9-7a24b28af0dc"
      },
      "execution_count": 8,
      "outputs": [
        {
          "output_type": "stream",
          "name": "stdout",
          "text": [
            "[INFO] loading Fashion MNIST...\n",
            "Downloading data from https://storage.googleapis.com/tensorflow/tf-keras-datasets/train-labels-idx1-ubyte.gz\n",
            "29515/29515 [==============================] - 0s 0us/step\n",
            "Downloading data from https://storage.googleapis.com/tensorflow/tf-keras-datasets/train-images-idx3-ubyte.gz\n",
            "26421880/26421880 [==============================] - 0s 0us/step\n",
            "Downloading data from https://storage.googleapis.com/tensorflow/tf-keras-datasets/t10k-labels-idx1-ubyte.gz\n",
            "5148/5148 [==============================] - 0s 0us/step\n",
            "Downloading data from https://storage.googleapis.com/tensorflow/tf-keras-datasets/t10k-images-idx3-ubyte.gz\n",
            "4422102/4422102 [==============================] - 0s 0us/step\n"
          ]
        }
      ]
    },
    {
      "cell_type": "code",
      "source": [
        "es = EarlyStopping(\n",
        "\tmonitor=\"val_loss\",\n",
        "\tpatience=config.EARLY_STOPPING_PATIENCE,\n",
        "\trestore_best_weights=True)"
      ],
      "metadata": {
        "id": "GqI3VbttfEIO"
      },
      "execution_count": 9,
      "outputs": []
    },
    {
      "cell_type": "code",
      "source": [
        "# check if we will be using the hyperband tuner\n",
        "if args[\"tuner\"] == \"hyperband\":\n",
        "\t# instantiate the hyperband tuner object\n",
        "\tprint(\"[INFO] instantiating a hyperband tuner object...\")\n",
        "\ttuner = kt.Hyperband(\n",
        "\t\tbuild_model,\n",
        "\t\tobjective=\"val_accuracy\",\n",
        "\t\tmax_epochs=config.EPOCHS,\n",
        "\t\tfactor=3,\n",
        "\t\tseed=42,\n",
        "\t\tdirectory=config.OUTPUT_PATH,\n",
        "\t\tproject_name=args[\"tuner\"])\n",
        "\n",
        "# check if we will be using the random search tuner\n",
        "elif args[\"tuner\"] == \"random\":\n",
        "\t# instantiate the random search tuner object\n",
        "\tprint(\"[INFO] instantiating a random search tuner object...\")\n",
        "\ttuner = kt.RandomSearch(\n",
        "\t\tbuild_model,\n",
        "\t\tobjective=\"val_accuracy\",\n",
        "\t\tmax_trials=10,\n",
        "\t\tseed=42,\n",
        "\t\tdirectory=config.OUTPUT_PATH,\n",
        "\t\tproject_name=args[\"tuner\"])\n",
        "\n",
        "# otherwise, we will be using the bayesian optimization tuner\n",
        "else:\n",
        "\t# instantiate the bayesian optimization tuner object\n",
        "\tprint(\"[INFO] instantiating a bayesian optimization tuner object...\")\n",
        "\ttuner = kt.BayesianOptimization(\n",
        "\t\tbuild_model,\n",
        "\t\tobjective=\"val_accuracy\",\n",
        "\t\tmax_trials=10,\n",
        "\t\tseed=42,\n",
        "\t\tdirectory=config.OUTPUT_PATH,\n",
        "\t\tproject_name=args[\"tuner\"])"
      ],
      "metadata": {
        "colab": {
          "base_uri": "https://localhost:8080/"
        },
        "id": "9Acv6CypfKa1",
        "outputId": "4418be23-9bb0-48d4-d463-cab472ab5bc8"
      },
      "execution_count": 10,
      "outputs": [
        {
          "output_type": "stream",
          "name": "stdout",
          "text": [
            "[INFO] instantiating a random search tuner object...\n"
          ]
        }
      ]
    },
    {
      "cell_type": "code",
      "source": [
        "# perform the hyperparameter search\n",
        "print(\"[INFO] performing hyperparameter search...\")\n",
        "tuner.search(\n",
        "\tx=trainX, y=trainY,\n",
        "\tvalidation_data=(testX, testY),\n",
        "\tbatch_size=config.BS,\n",
        "\tcallbacks=[es],\n",
        "\tepochs=config.EPOCHS\n",
        ")"
      ],
      "metadata": {
        "colab": {
          "base_uri": "https://localhost:8080/"
        },
        "id": "MxG3P7kVf0jC",
        "outputId": "1b877479-a229-45ae-ab56-d649ccfc1fe3"
      },
      "execution_count": 11,
      "outputs": [
        {
          "output_type": "stream",
          "name": "stdout",
          "text": [
            "Trial 10 Complete [00h 02m 40s]\n",
            "val_accuracy: 0.9168999791145325\n",
            "\n",
            "Best val_accuracy So Far: 0.9269000291824341\n",
            "Total elapsed time: 00h 18m 55s\n"
          ]
        }
      ]
    },
    {
      "cell_type": "code",
      "source": [
        "bestHP = tuner.get_best_hyperparameters(num_trials=1)[0]\n",
        "print(\"[INFO] optimal number of filters in conv_1 layer: {}\".format(\n",
        "\tbestHP.get(\"conv_1\")))\n",
        "print(\"[INFO] optimal number of filters in conv_2 layer: {}\".format(\n",
        "\tbestHP.get(\"conv_2\")))\n",
        "print(\"[INFO] optimal number of units in dense layer: {}\".format(\n",
        "\tbestHP.get(\"dense_units\")))\n",
        "print(\"[INFO] optimal learning rate: {:.4f}\".format(\n",
        "\tbestHP.get(\"learning_rate\")))"
      ],
      "metadata": {
        "colab": {
          "base_uri": "https://localhost:8080/"
        },
        "id": "UcQbOfJ_gfZB",
        "outputId": "2e933704-8a36-48e1-fa26-2cb36609330c"
      },
      "execution_count": 12,
      "outputs": [
        {
          "output_type": "stream",
          "name": "stdout",
          "text": [
            "[INFO] optimal number of filters in conv_1 layer: 96\n",
            "[INFO] optimal number of filters in conv_2 layer: 96\n",
            "[INFO] optimal number of units in dense layer: 512\n",
            "[INFO] optimal learning rate: 0.0010\n"
          ]
        }
      ]
    },
    {
      "cell_type": "code",
      "source": [
        "model = tuner.hypermodel.build(bestHP)\n",
        "H = model.fit(x=trainX, y=trainY,\n",
        "\tvalidation_data=(testX, testY), batch_size=config.BS,\n",
        "\tepochs=config.EPOCHS, callbacks=[es], verbose=1)\n"
      ],
      "metadata": {
        "colab": {
          "base_uri": "https://localhost:8080/"
        },
        "id": "9DJSZPZHiLQt",
        "outputId": "bf556b35-532d-4490-b745-66ae5e1a7d97"
      },
      "execution_count": 13,
      "outputs": [
        {
          "output_type": "stream",
          "name": "stdout",
          "text": [
            "Epoch 1/50\n",
            "1875/1875 [==============================] - 14s 6ms/step - loss: 0.4171 - accuracy: 0.8566 - val_loss: 0.3374 - val_accuracy: 0.8706\n",
            "Epoch 2/50\n",
            "1875/1875 [==============================] - 11s 6ms/step - loss: 0.2842 - accuracy: 0.8975 - val_loss: 0.3163 - val_accuracy: 0.8791\n",
            "Epoch 3/50\n",
            "1875/1875 [==============================] - 10s 6ms/step - loss: 0.2546 - accuracy: 0.9078 - val_loss: 0.3167 - val_accuracy: 0.8915\n",
            "Epoch 4/50\n",
            "1875/1875 [==============================] - 11s 6ms/step - loss: 0.2233 - accuracy: 0.9187 - val_loss: 0.2417 - val_accuracy: 0.9136\n",
            "Epoch 5/50\n",
            "1875/1875 [==============================] - 11s 6ms/step - loss: 0.2117 - accuracy: 0.9244 - val_loss: 0.2484 - val_accuracy: 0.9150\n",
            "Epoch 6/50\n",
            "1875/1875 [==============================] - 11s 6ms/step - loss: 0.1898 - accuracy: 0.9320 - val_loss: 0.2614 - val_accuracy: 0.9100\n",
            "Epoch 7/50\n",
            "1875/1875 [==============================] - 11s 6ms/step - loss: 0.1788 - accuracy: 0.9349 - val_loss: 0.3418 - val_accuracy: 0.9118\n",
            "Epoch 8/50\n",
            "1875/1875 [==============================] - 11s 6ms/step - loss: 0.1515 - accuracy: 0.9448 - val_loss: 0.3049 - val_accuracy: 0.9078\n",
            "Epoch 9/50\n",
            "1875/1875 [==============================] - 11s 6ms/step - loss: 0.1408 - accuracy: 0.9484 - val_loss: 0.2514 - val_accuracy: 0.9246\n"
          ]
        }
      ]
    },
    {
      "cell_type": "code",
      "source": [
        "predictions = model.predict(x=testX, batch_size=32)\n",
        "print(classification_report(testY.argmax(axis=1),\n",
        "\tpredictions.argmax(axis=1), target_names=labelNames))\n",
        "\n",
        "# generate the training loss/accuracy plot\n",
        "save_plot(H, args[\"plot\"])"
      ],
      "metadata": {
        "colab": {
          "base_uri": "https://localhost:8080/"
        },
        "id": "6HDzS1VziMEC",
        "outputId": "ddda535a-45d9-4da0-9230-5ee892652eaf"
      },
      "execution_count": 14,
      "outputs": [
        {
          "output_type": "stream",
          "name": "stdout",
          "text": [
            "313/313 [==============================] - 1s 2ms/step\n",
            "              precision    recall  f1-score   support\n",
            "\n",
            "         top       0.90      0.85      0.87      1000\n",
            "     trouser       1.00      0.98      0.99      1000\n",
            "    pullover       0.85      0.89      0.87      1000\n",
            "       dress       0.88      0.95      0.92      1000\n",
            "        coat       0.91      0.77      0.83      1000\n",
            "      sandal       0.98      0.98      0.98      1000\n",
            "       shirt       0.71      0.80      0.75      1000\n",
            "     sneaker       0.96      0.97      0.96      1000\n",
            "         bag       0.99      0.98      0.98      1000\n",
            "  ankle boot       0.97      0.97      0.97      1000\n",
            "\n",
            "    accuracy                           0.91     10000\n",
            "   macro avg       0.92      0.91      0.91     10000\n",
            "weighted avg       0.92      0.91      0.91     10000\n",
            "\n"
          ]
        }
      ]
    },
    {
      "cell_type": "code",
      "source": [],
      "metadata": {
        "id": "p-QErCLam_i4"
      },
      "execution_count": null,
      "outputs": []
    }
  ]
}