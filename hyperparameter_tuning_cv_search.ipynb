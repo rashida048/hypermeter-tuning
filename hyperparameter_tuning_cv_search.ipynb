{
  "nbformat": 4,
  "nbformat_minor": 0,
  "metadata": {
    "colab": {
      "provenance": []
    },
    "kernelspec": {
      "name": "python3",
      "display_name": "Python 3"
    },
    "language_info": {
      "name": "python"
    }
  },
  "cells": [
    {
      "cell_type": "code",
      "execution_count": null,
      "metadata": {
        "colab": {
          "base_uri": "https://localhost:8080/"
        },
        "id": "DWlRVAdHfiUu",
        "outputId": "84df3033-90a3-457d-da97-6de43be5839b"
      },
      "outputs": [
        {
          "output_type": "stream",
          "name": "stdout",
          "text": [
            "--2023-06-02 14:24:32--  https://pyimagesearch-code-downloads.s3-us-west-2.amazonaws.com/hyperparameter-tuning-cv/hyperparameter-tuning-cv.zip\n",
            "Resolving pyimagesearch-code-downloads.s3-us-west-2.amazonaws.com (pyimagesearch-code-downloads.s3-us-west-2.amazonaws.com)... 52.92.226.10, 52.92.145.90, 3.5.77.162, ...\n",
            "Connecting to pyimagesearch-code-downloads.s3-us-west-2.amazonaws.com (pyimagesearch-code-downloads.s3-us-west-2.amazonaws.com)|52.92.226.10|:443... connected.\n",
            "HTTP request sent, awaiting response... 200 OK\n",
            "Length: 55556261 (53M) [binary/octet-stream]\n",
            "Saving to: ‘hyperparameter-tuning-cv.zip’\n",
            "\n",
            "hyperparameter-tuni 100%[===================>]  52.98M  23.0MB/s    in 2.3s    \n",
            "\n",
            "2023-06-02 14:24:35 (23.0 MB/s) - ‘hyperparameter-tuning-cv.zip’ saved [55556261/55556261]\n",
            "\n",
            "/content/hyperparameter-tuning-cv\n"
          ]
        }
      ],
      "source": [
        "!wget https://pyimagesearch-code-downloads.s3-us-west-2.amazonaws.com/hyperparameter-tuning-cv/hyperparameter-tuning-cv.zip\n",
        "!unzip -qq hyperparameter-tuning-cv.zip\n",
        "%cd hyperparameter-tuning-cv"
      ]
    },
    {
      "cell_type": "code",
      "source": [
        "# import the necessary packages\n",
        "from sklearn.model_selection import GridSearchCV\n",
        "from sklearn.metrics import classification_report\n",
        "from sklearn.svm import SVC\n",
        "from sklearn.model_selection import train_test_split\n",
        "from skimage import feature\n",
        "from imutils import paths\n",
        "import numpy as np\n",
        "import time\n",
        "import cv2\n",
        "import os"
      ],
      "metadata": {
        "id": "GyXVmECNftcV"
      },
      "execution_count": null,
      "outputs": []
    },
    {
      "cell_type": "code",
      "source": [
        "class LocalBinaryPatterns:\n",
        "  def __init__(self, numPoints, radius):\n",
        "    self.numPoints = numPoints\n",
        "    self.radius = radius \n",
        "\n",
        "  def describe(self, image, eps=1e-7):\n",
        "\n",
        "    lbp = feature.local_binary_pattern(image, self.numPoints,\n",
        "                                       self.radius, method=\"uniform\")\n",
        "    (hist, _) = np.histogram(lbp.ravel(),\n",
        "                             bins = np.arange(0, self.numPoints + 3),\n",
        "                             range = (0, self.numPoints + 2))\n",
        "    hist = hist.astype(\"float\")\n",
        "    hist /= (hist.sum()  + eps)\n",
        "\n",
        "    return hist "
      ],
      "metadata": {
        "id": "4s8VO6YSgCFM"
      },
      "execution_count": null,
      "outputs": []
    },
    {
      "cell_type": "code",
      "source": [
        "args = {\n",
        "\t\"dataset\": \"texture_dataset\"\n",
        "}"
      ],
      "metadata": {
        "id": "ye5M31SbFJpD"
      },
      "execution_count": null,
      "outputs": []
    },
    {
      "cell_type": "code",
      "source": [
        "imagePaths = list(paths.list_images(args['dataset']))\n",
        "\n",
        "desc = LocalBinaryPatterns(24, 8)\n",
        "data = []\n",
        "labels = []"
      ],
      "metadata": {
        "id": "S_ZfXC8UFZHz"
      },
      "execution_count": null,
      "outputs": []
    },
    {
      "cell_type": "code",
      "source": [
        "for imagePath in imagePaths:\n",
        "  image = cv2.imread(imagePath)\n",
        "  gray = cv2.cvtColor(image, cv2.COLOR_BGR2GRAY)\n",
        "  hist = desc.describe(gray)\n",
        "\n",
        "  labels.append(imagePath.split(os.path.sep)[-2])\n",
        "\n",
        "  data.append(hist)\n",
        "\n",
        "(trainX, testX, trainY, testY) = train_test_split(data, labels,\n",
        "\trandom_state=22, test_size=0.25)"
      ],
      "metadata": {
        "id": "bkZBewd5Fm5r"
      },
      "execution_count": null,
      "outputs": []
    },
    {
      "cell_type": "code",
      "source": [
        "parameters = [\n",
        "\t{\"kernel\":\n",
        "\t\t[\"linear\"],\n",
        "\t\t\"C\": [0.0001, 0.001, 0.1, 1, 10, 100, 1000]},\n",
        "\t{\"kernel\":\n",
        "\t\t[\"poly\"],\n",
        "\t\t\"degree\": [2, 3, 4],\n",
        "\t\t\"C\": [0.0001, 0.001, 0.1, 1, 10, 100, 1000]},\n",
        "\t{\"kernel\":\n",
        "\t\t[\"rbf\"],\n",
        "\t\t\"gamma\": [\"auto\", \"scale\"],\n",
        "\t\t\"C\": [0.0001, 0.001, 0.1, 1, 10, 100, 1000]}\n",
        "]"
      ],
      "metadata": {
        "id": "UtOY9lAkGpiK"
      },
      "execution_count": null,
      "outputs": []
    },
    {
      "cell_type": "code",
      "source": [
        "grid = GridSearchCV(estimator=SVC(), param_grid=parameters, n_jobs=-1)\n",
        "start = time.time()\n",
        "grid.fit(trainX, trainY)\n",
        "end = time.time()\n",
        "\n",
        "# show the grid search information\n",
        "print(\"[INFO] grid search took {:.2f} seconds\".format(\n",
        "\tend - start))\n",
        "print(\"[INFO] grid search best score: {:.2f}%\".format(\n",
        "\tgrid.best_score_ * 100))\n",
        "print(\"[INFO] grid search best parameters: {}\".format(\n",
        "\tgrid.best_params_))"
      ],
      "metadata": {
        "colab": {
          "base_uri": "https://localhost:8080/"
        },
        "id": "eEDMtDKZHD2l",
        "outputId": "4ee6fcb8-5ec0-4901-f26f-e254a6d44842"
      },
      "execution_count": null,
      "outputs": [
        {
          "output_type": "stream",
          "name": "stdout",
          "text": [
            "[INFO] grid search took 2.91 seconds\n",
            "[INFO] grid search best score: 90.88%\n",
            "[INFO] grid search best parameters: {'C': 1000, 'degree': 3, 'kernel': 'poly'}\n"
          ]
        }
      ]
    },
    {
      "cell_type": "code",
      "source": [
        "model = grid.best_estimator_\n",
        "predictions = model.predict(testX)\n",
        "print(classification_report(testY, predictions))"
      ],
      "metadata": {
        "colab": {
          "base_uri": "https://localhost:8080/"
        },
        "id": "i0__pLdcH3yp",
        "outputId": "27231201-c086-4487-dcbc-cb2e104f9882"
      },
      "execution_count": null,
      "outputs": [
        {
          "output_type": "stream",
          "name": "stdout",
          "text": [
            "              precision    recall  f1-score   support\n",
            "\n",
            "       brick       0.89      1.00      0.94         8\n",
            "      marble       1.00      1.00      1.00         5\n",
            "        sand       1.00      0.90      0.95        10\n",
            "\n",
            "    accuracy                           0.96        23\n",
            "   macro avg       0.96      0.97      0.96        23\n",
            "weighted avg       0.96      0.96      0.96        23\n",
            "\n"
          ]
        }
      ]
    },
    {
      "cell_type": "code",
      "source": [],
      "metadata": {
        "id": "pbNKWloAIAQs"
      },
      "execution_count": null,
      "outputs": []
    }
  ]
}