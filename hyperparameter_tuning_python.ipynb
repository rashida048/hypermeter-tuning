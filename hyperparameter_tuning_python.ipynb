{
  "nbformat": 4,
  "nbformat_minor": 0,
  "metadata": {
    "colab": {
      "provenance": []
    },
    "kernelspec": {
      "name": "python3",
      "display_name": "Python 3"
    },
    "language_info": {
      "name": "python"
    }
  },
  "cells": [
    {
      "cell_type": "code",
      "execution_count": null,
      "metadata": {
        "colab": {
          "base_uri": "https://localhost:8080/"
        },
        "id": "1eweNzGySbga",
        "outputId": "e91a2a97-9137-4a09-874f-88ba5980c9be"
      },
      "outputs": [
        {
          "output_type": "stream",
          "name": "stdout",
          "text": [
            "--2023-06-02 13:26:45--  https://pyimagesearch-code-downloads.s3-us-west-2.amazonaws.com/intro-hyperparameter-tuning/intro-hyperparameter-tuning.zip\n",
            "Resolving pyimagesearch-code-downloads.s3-us-west-2.amazonaws.com (pyimagesearch-code-downloads.s3-us-west-2.amazonaws.com)... 52.92.136.242, 3.5.82.126, 52.92.132.82, ...\n",
            "Connecting to pyimagesearch-code-downloads.s3-us-west-2.amazonaws.com (pyimagesearch-code-downloads.s3-us-west-2.amazonaws.com)|52.92.136.242|:443... connected.\n",
            "HTTP request sent, awaiting response... 200 OK\n",
            "Length: 152304 (149K) [binary/octet-stream]\n",
            "Saving to: ‘intro-hyperparameter-tuning.zip’\n",
            "\n",
            "intro-hyperparamete 100%[===================>] 148.73K  --.-KB/s    in 0.1s    \n",
            "\n",
            "2023-06-02 13:26:45 (1.34 MB/s) - ‘intro-hyperparameter-tuning.zip’ saved [152304/152304]\n",
            "\n",
            "/content/intro-hyperparameter-tuning\n"
          ]
        }
      ],
      "source": [
        "!wget https://pyimagesearch-code-downloads.s3-us-west-2.amazonaws.com/intro-hyperparameter-tuning/intro-hyperparameter-tuning.zip\n",
        "!unzip -qq intro-hyperparameter-tuning.zip\n",
        "%cd intro-hyperparameter-tuning"
      ]
    },
    {
      "cell_type": "code",
      "source": [
        "# import the necessary packages\n",
        "from sklearn.model_selection import RandomizedSearchCV\n",
        "from sklearn.model_selection import RepeatedKFold\n",
        "from sklearn.model_selection import GridSearchCV\n",
        "from sklearn.preprocessing import StandardScaler\n",
        "from sklearn.model_selection import train_test_split\n",
        "from sklearn.svm import SVR\n",
        "from scipy.stats import loguniform\n",
        "import pandas as pd"
      ],
      "metadata": {
        "id": "qYm9bR8ySehg"
      },
      "execution_count": null,
      "outputs": []
    },
    {
      "cell_type": "code",
      "source": [
        "class Config:\n",
        "  CSV_PATH = 'abalone_train.csv'\n",
        "\n",
        "  COLS = ['Length', 'Diameter', 'Height', 'Whole weight', \n",
        "          \"Shucked weight\", 'Viscera weight', 'Shell weight', 'Age']\n",
        "\n",
        "config = Config()"
      ],
      "metadata": {
        "id": "IKK9VjJyTG3w"
      },
      "execution_count": null,
      "outputs": []
    },
    {
      "cell_type": "code",
      "source": [
        "dataset = pd.read_csv(config.CSV_PATH, names = config.COLS)\n",
        "dataX = dataset[dataset.columns[:-1]]\n",
        "dataY = dataset[dataset.columns[-1]]\n",
        "(trainX, testX, trainY, testY) = train_test_split(dataX,\n",
        "\tdataY, random_state=3, test_size=0.15)"
      ],
      "metadata": {
        "id": "-tm4yLK7Tq5F"
      },
      "execution_count": null,
      "outputs": []
    },
    {
      "cell_type": "code",
      "source": [
        "scaler = StandardScaler()\n",
        "trainX = scaler.fit_transform(trainX)\n",
        "testX = scaler.transform(testX)"
      ],
      "metadata": {
        "id": "WrvrhziTUHuy"
      },
      "execution_count": null,
      "outputs": []
    },
    {
      "cell_type": "code",
      "source": [
        "model = SVR()\n",
        "model.fit(trainX, trainY)\n",
        "model.score(testX, testY)"
      ],
      "metadata": {
        "colab": {
          "base_uri": "https://localhost:8080/"
        },
        "id": "HuituAbsUU7A",
        "outputId": "4b135beb-9666-4534-9e47-d62d835635a2"
      },
      "execution_count": null,
      "outputs": [
        {
          "output_type": "execute_result",
          "data": {
            "text/plain": [
              "0.5537874025424437"
            ]
          },
          "metadata": {},
          "execution_count": 6
        }
      ]
    },
    {
      "cell_type": "code",
      "source": [
        "model = SVR()\n",
        "kernel = [\"linear\", \"rbf\", \"sigmoid\", \"poly\"]\n",
        "tolerance = [1e-3, 1e-4, 1e-5, 1e-6]\n",
        "C = [1, 1.5, 2, 2.5, 3]\n",
        "grid = dict(kernel=kernel, tol=tolerance, C=C)"
      ],
      "metadata": {
        "id": "sHQqRQr8Uhp7"
      },
      "execution_count": null,
      "outputs": []
    },
    {
      "cell_type": "code",
      "source": [
        "cvFold = RepeatedKFold(n_splits=10, n_repeats=3, random_state=1)\n",
        "gridSearch = GridSearchCV(estimator=model, param_grid=grid, n_jobs=-1,\n",
        "\tcv=cvFold, scoring=\"neg_mean_squared_error\")\n",
        "searchResults = gridSearch.fit(trainX, trainY)\n",
        "bestModel = searchResults.best_estimator_\n",
        "print(\"R2: {:.2f}\".format(bestModel.score(testX, testY)))"
      ],
      "metadata": {
        "colab": {
          "base_uri": "https://localhost:8080/"
        },
        "id": "5BPzA9WeUnSk",
        "outputId": "ccd71b37-2edb-4213-ff1a-725fd1696713"
      },
      "execution_count": null,
      "outputs": [
        {
          "output_type": "stream",
          "name": "stdout",
          "text": [
            "R2: 0.56\n"
          ]
        }
      ]
    },
    {
      "cell_type": "markdown",
      "source": [
        "Tuning Hyperparameter with a randomized search"
      ],
      "metadata": {
        "id": "WjZwMgRbcCpz"
      }
    },
    {
      "cell_type": "code",
      "source": [
        "# perform the randomized-search over\n",
        "model = SVR()\n",
        "kernel = [\"linear\", \"rbf\", \"sigmoid\", \"poly\"]\n",
        "tolerance = loguniform(1e-6, 1e-3)\n",
        "C = [1, 1.5, 2, 2.5, 3]\n",
        "grid = dict(kernel=kernel, tol=tolerance, C=C)"
      ],
      "metadata": {
        "id": "j7W6L5ElcI_b"
      },
      "execution_count": null,
      "outputs": []
    },
    {
      "cell_type": "code",
      "source": [
        "print(\"[INFO] grid searching over the hyperparameters...\")\n",
        "cvFold = RepeatedKFold(n_splits=10, n_repeats=3, random_state=1)\n",
        "randomSearch = RandomizedSearchCV(estimator=model, n_jobs=-1,\n",
        "\tcv=cvFold, param_distributions=grid,\n",
        "\tscoring=\"neg_mean_squared_error\")\n",
        "searchResults = randomSearch.fit(trainX, trainY)\n",
        "\n",
        "# extract the best model and evaluate it\n",
        "print(\"[INFO] evaluating...\")\n",
        "bestModel = searchResults.best_estimator_\n",
        "print(\"R2: {:.2f}\".format(bestModel.score(testX, testY)))"
      ],
      "metadata": {
        "colab": {
          "base_uri": "https://localhost:8080/"
        },
        "id": "bdQfd1B-cL3L",
        "outputId": "821d0977-99e0-4c2d-e9d0-b5bdd347cdc8"
      },
      "execution_count": null,
      "outputs": [
        {
          "output_type": "stream",
          "name": "stdout",
          "text": [
            "[INFO] grid searching over the hyperparameters...\n",
            "[INFO] evaluating...\n",
            "R2: 0.56\n"
          ]
        }
      ]
    },
    {
      "cell_type": "code",
      "source": [],
      "metadata": {
        "id": "veTy5Oi3cOob"
      },
      "execution_count": null,
      "outputs": []
    }
  ]
}