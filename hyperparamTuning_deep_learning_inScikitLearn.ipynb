{
  "nbformat": 4,
  "nbformat_minor": 0,
  "metadata": {
    "colab": {
      "provenance": [],
      "gpuType": "T4",
      "authorship_tag": "ABX9TyOLuET22Lx6wAnZoPBgb1Yn",
      "include_colab_link": true
    },
    "kernelspec": {
      "name": "python3",
      "display_name": "Python 3"
    },
    "language_info": {
      "name": "python"
    },
    "accelerator": "GPU"
  },
  "cells": [
    {
      "cell_type": "markdown",
      "metadata": {
        "id": "view-in-github",
        "colab_type": "text"
      },
      "source": [
        "<a href=\"https://colab.research.google.com/github/rashida048/hypermeter-tuning/blob/main/hyperparamTuning_deep_learning_inScikitLearn.ipynb\" target=\"_parent\"><img src=\"https://colab.research.google.com/assets/colab-badge.svg\" alt=\"Open In Colab\"/></a>"
      ]
    },
    {
      "cell_type": "code",
      "execution_count": 1,
      "metadata": {
        "colab": {
          "base_uri": "https://localhost:8080/"
        },
        "id": "dPsYNX56BKPv",
        "outputId": "9784941e-f88e-4c5b-fb98-05f9ad34b338"
      },
      "outputs": [
        {
          "output_type": "stream",
          "name": "stdout",
          "text": [
            "--2023-06-05 20:33:03--  https://pyimagesearch-code-downloads.s3-us-west-2.amazonaws.com/hyperparameter-tuning-tf-scikit/hyperparameter-tuning-tf-scikit.zip\n",
            "Resolving pyimagesearch-code-downloads.s3-us-west-2.amazonaws.com (pyimagesearch-code-downloads.s3-us-west-2.amazonaws.com)... 3.5.76.103, 52.218.233.129, 52.218.183.42, ...\n",
            "Connecting to pyimagesearch-code-downloads.s3-us-west-2.amazonaws.com (pyimagesearch-code-downloads.s3-us-west-2.amazonaws.com)|3.5.76.103|:443... connected.\n",
            "HTTP request sent, awaiting response... 200 OK\n",
            "Length: 4941 (4.8K) [binary/octet-stream]\n",
            "Saving to: ‘hyperparameter-tuning-tf-scikit.zip’\n",
            "\n",
            "hyperparameter-tuni 100%[===================>]   4.83K  --.-KB/s    in 0s      \n",
            "\n",
            "2023-06-05 20:33:04 (169 MB/s) - ‘hyperparameter-tuning-tf-scikit.zip’ saved [4941/4941]\n",
            "\n",
            "/content/hyperparameter-tuning-tf-scikit\n"
          ]
        }
      ],
      "source": [
        "!wget https://pyimagesearch-code-downloads.s3-us-west-2.amazonaws.com/hyperparameter-tuning-tf-scikit/hyperparameter-tuning-tf-scikit.zip\n",
        "!unzip -qq hyperparameter-tuning-tf-scikit.zip\n",
        "%cd hyperparameter-tuning-tf-scikit"
      ]
    },
    {
      "cell_type": "code",
      "source": [
        "# import tensorflow and fix the random seed for better reproducibility\n",
        "import tensorflow as tf\n",
        "tf.random.set_seed(42)\n",
        "\n",
        "# import the necessary packages\n",
        "from tensorflow.keras.models import Sequential\n",
        "from tensorflow.keras.layers import Flatten\n",
        "from tensorflow.keras.layers import Dropout\n",
        "from tensorflow.keras.layers import Dense\n",
        "from tensorflow.keras.optimizers import Adam\n",
        "from tensorflow.keras.wrappers.scikit_learn import KerasClassifier\n",
        "from sklearn.model_selection import RandomizedSearchCV\n",
        "from tensorflow.keras.datasets import mnist"
      ],
      "metadata": {
        "id": "idQXoilTBNKC"
      },
      "execution_count": 2,
      "outputs": []
    },
    {
      "cell_type": "code",
      "source": [
        "def get_mlp_model(hiddenLayerOne=784, hiddenLayerTwo=256,\n",
        "\tdropout=0.2, learnRate=0.01):\n",
        "\t# initialize a sequential model and add layer to flatten the\n",
        "\t# input data\n",
        "\tmodel = Sequential()\n",
        "\tmodel.add(Flatten())\n",
        "\n",
        "\t# add two stacks of FC => RELU => DROPOUT\n",
        "\tmodel.add(Dense(hiddenLayerOne, activation=\"relu\",\n",
        "\t\tinput_shape=(784,)))\n",
        "\tmodel.add(Dropout(dropout))\n",
        "\tmodel.add(Dense(hiddenLayerTwo, activation=\"relu\"))\n",
        "\tmodel.add(Dropout(dropout))\n",
        "\n",
        "\t# add a softmax layer on top\n",
        "\tmodel.add(Dense(10, activation=\"softmax\"))\n",
        "\n",
        "\t# compile the model\n",
        "\tmodel.compile(\n",
        "\t\toptimizer=Adam(learning_rate=learnRate),\n",
        "\t\tloss=\"sparse_categorical_crossentropy\",\n",
        "\t\tmetrics=[\"accuracy\"])\n",
        "\n",
        "\t# return compiled model\n",
        "\treturn model"
      ],
      "metadata": {
        "id": "w04M2UcSBY-7"
      },
      "execution_count": 3,
      "outputs": []
    },
    {
      "cell_type": "code",
      "source": [
        "# load the MNIST dataset\n",
        "print(\"[INFO] downloading MNIST...\")\n",
        "((trainData, trainLabels), (testData, testLabels)) = mnist.load_data()\n",
        "\n",
        "# scale data to the range of [0, 1]\n",
        "trainData = trainData.astype(\"float32\") / 255.0\n",
        "testData = testData.astype(\"float32\") / 255.0"
      ],
      "metadata": {
        "colab": {
          "base_uri": "https://localhost:8080/"
        },
        "id": "DQaBHFTkCFo-",
        "outputId": "ab22a151-a451-4112-f61d-d53f8545c7fc"
      },
      "execution_count": 4,
      "outputs": [
        {
          "output_type": "stream",
          "name": "stdout",
          "text": [
            "[INFO] downloading MNIST...\n",
            "Downloading data from https://storage.googleapis.com/tensorflow/tf-keras-datasets/mnist.npz\n",
            "11490434/11490434 [==============================] - 1s 0us/step\n"
          ]
        }
      ]
    },
    {
      "cell_type": "code",
      "source": [
        "model = KerasClassifier(build_fn=get_mlp_model, verbose=0)\n",
        "\n",
        "# define a grid of the hyperparameter search space\n",
        "hiddenLayerOne = [256]\n",
        "hiddenLayerTwo = [128, 256]\n",
        "learnRate = [1e-2, 1e-3]\n",
        "dropout = [0.4]\n",
        "batchSize = [32]\n",
        "epochs = [40]\n",
        "\n",
        "# create a dictionary from the hyperparameter grid\n",
        "grid = dict(\n",
        "\thiddenLayerOne=hiddenLayerOne,\n",
        "\tlearnRate=learnRate,\n",
        "\thiddenLayerTwo=hiddenLayerTwo,\n",
        "\tdropout=dropout,\n",
        "\tbatch_size=batchSize,\n",
        "\tepochs=epochs\n",
        ")"
      ],
      "metadata": {
        "colab": {
          "base_uri": "https://localhost:8080/"
        },
        "id": "wC-5VpGGCUVq",
        "outputId": "42aa156f-d84f-4b40-c07c-b82b71365604"
      },
      "execution_count": 5,
      "outputs": [
        {
          "output_type": "stream",
          "name": "stderr",
          "text": [
            "<ipython-input-5-588794ea7873>:1: DeprecationWarning: KerasClassifier is deprecated, use Sci-Keras (https://github.com/adriangb/scikeras) instead. See https://www.adriangb.com/scikeras/stable/migration.html for help migrating.\n",
            "  model = KerasClassifier(build_fn=get_mlp_model, verbose=0)\n"
          ]
        }
      ]
    },
    {
      "cell_type": "code",
      "source": [
        "searcher = RandomizedSearchCV(estimator=model, n_jobs=1, \n",
        "                              cv = 3, param_distributions=grid, scoring='accuracy')\n",
        "searchResults = searcher.fit(trainData, trainLabels)"
      ],
      "metadata": {
        "colab": {
          "base_uri": "https://localhost:8080/"
        },
        "id": "qGbCd8VAD1fM",
        "outputId": "4f772071-99a1-4eb8-9d66-24b79fb783d3"
      },
      "execution_count": 8,
      "outputs": [
        {
          "output_type": "stream",
          "name": "stdout",
          "text": [
            "625/625 [==============================] - 1s 2ms/step\n",
            "625/625 [==============================] - 1s 2ms/step\n",
            "625/625 [==============================] - 2s 2ms/step\n",
            "625/625 [==============================] - 2s 2ms/step\n",
            "625/625 [==============================] - 2s 2ms/step\n",
            "625/625 [==============================] - 1s 2ms/step\n",
            "625/625 [==============================] - 1s 2ms/step\n",
            "625/625 [==============================] - 1s 2ms/step\n",
            "625/625 [==============================] - 1s 2ms/step\n",
            "625/625 [==============================] - 1s 2ms/step\n",
            "625/625 [==============================] - 1s 2ms/step\n",
            "625/625 [==============================] - 1s 2ms/step\n"
          ]
        }
      ]
    },
    {
      "cell_type": "code",
      "source": [
        "bestScore = searchResults.best_score_\n",
        "bestParams = searchResults.best_params_ \n",
        "print(\"[INFO] best score is {:.2f} using {}\".format(bestScore,\n",
        "\tbestParams))"
      ],
      "metadata": {
        "colab": {
          "base_uri": "https://localhost:8080/"
        },
        "id": "ANrt1UtcYYY8",
        "outputId": "404b3a7a-cb6c-400c-c5a9-7fd1faa0fd62"
      },
      "execution_count": 9,
      "outputs": [
        {
          "output_type": "stream",
          "name": "stdout",
          "text": [
            "[INFO] best score is 0.98 using {'learnRate': 0.001, 'hiddenLayerTwo': 128, 'hiddenLayerOne': 256, 'epochs': 40, 'dropout': 0.4, 'batch_size': 32}\n"
          ]
        }
      ]
    },
    {
      "cell_type": "code",
      "source": [
        "bestModel = searchResults.best_estimator_\n",
        "accuracy = bestModel.score(testData, testLabels)\n",
        "print(\"accuracy: {:.2f}%\".format(accuracy * 100))"
      ],
      "metadata": {
        "colab": {
          "base_uri": "https://localhost:8080/"
        },
        "id": "zm6_wOGCEZPH",
        "outputId": "b451b685-69ad-41e0-c9c0-31e2769e3785"
      },
      "execution_count": 10,
      "outputs": [
        {
          "output_type": "stream",
          "name": "stdout",
          "text": [
            "accuracy: 98.26%\n"
          ]
        }
      ]
    },
    {
      "cell_type": "code",
      "source": [],
      "metadata": {
        "id": "Fy-zgBe1Yb-8"
      },
      "execution_count": null,
      "outputs": []
    }
  ]
}