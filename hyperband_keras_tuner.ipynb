{
  "nbformat": 4,
  "nbformat_minor": 0,
  "metadata": {
    "colab": {
      "provenance": [],
      "gpuType": "T4",
      "authorship_tag": "ABX9TyMD0pgYRZJFVP1aBoCuC02u",
      "include_colab_link": true
    },
    "kernelspec": {
      "name": "python3",
      "display_name": "Python 3"
    },
    "language_info": {
      "name": "python"
    },
    "accelerator": "GPU"
  },
  "cells": [
    {
      "cell_type": "markdown",
      "metadata": {
        "id": "view-in-github",
        "colab_type": "text"
      },
      "source": [
        "<a href=\"https://colab.research.google.com/github/rashida048/hypermeter-tuning/blob/main/hyperband_keras_tuner.ipynb\" target=\"_parent\"><img src=\"https://colab.research.google.com/assets/colab-badge.svg\" alt=\"Open In Colab\"/></a>"
      ]
    },
    {
      "cell_type": "code",
      "execution_count": 1,
      "metadata": {
        "id": "q1g8mYahd5Ve"
      },
      "outputs": [],
      "source": [
        "import tensorflow as tf\n",
        "from keras.models import Sequential\n",
        "from tensorflow.keras.layers import BatchNormalization\n",
        "from keras.layers.convolutional import Conv2D\n",
        "from keras.layers.convolutional import MaxPooling2D\n",
        "from keras.layers.core import Activation\n",
        "from keras.layers.core import Flatten\n",
        "from keras.layers.core import Dropout\n",
        "from keras.layers.core import Dense\n",
        "from keras import backend as K\n",
        "from sklearn.preprocessing import LabelBinarizer\n",
        "from sklearn.metrics import classification_report\n",
        "from keras.optimizers import SGD\n",
        "from keras.datasets import cifar10\n",
        "import matplotlib.pyplot as plt\n",
        "import numpy as np\n",
        "%matplotlib inline"
      ]
    },
    {
      "cell_type": "code",
      "source": [
        "output_path = 'output'"
      ],
      "metadata": {
        "id": "vgpdAH6wd62I"
      },
      "execution_count": 2,
      "outputs": []
    },
    {
      "cell_type": "code",
      "source": [
        "def plot_h(H):\n",
        "\t# plot the training loss and accuracy\n",
        "\tplt.style.use(\"ggplot\")\n",
        "\tplt.figure(figsize = (6, 5))\n",
        "\tplt.plot(H.history[\"loss\"], label=\"train_loss\")\n",
        "\tplt.plot(H.history[\"val_loss\"], label=\"val_loss\")\n",
        "\tplt.plot(H.history[\"accuracy\"], label=\"train_acc\")\n",
        "\tplt.plot(H.history[\"val_accuracy\"], label=\"val_acc\")\n",
        "\tplt.title(\"Training Loss and Accuracy\")\n",
        "\tplt.xlabel(\"Epoch #\")\n",
        "\tplt.ylabel(\"Loss/Accuracy\")\n",
        "\tplt.legend()\n",
        "\t#plt.savefig(path)"
      ],
      "metadata": {
        "id": "4bAVdDE_euCe"
      },
      "execution_count": 3,
      "outputs": []
    },
    {
      "cell_type": "code",
      "source": [
        "def model_build(hp):\n",
        "  model = Sequential()\n",
        "  inputShape = (32, 32, 3)\n",
        "  chanDim = -1 \n",
        "\n",
        "  model.add(Conv2D(\n",
        "      hp.Int(\"conv_1\", min_value=64, max_value = 128, \n",
        "             step=32), (3, 3), padding='same', input_shape = inputShape))\n",
        "  model.add(Activation(\"relu\"))\n",
        "  model.add(BatchNormalization(axis=chanDim))\n",
        "  model.add(MaxPooling2D(pool_size=(2, 2)))\n",
        "\n",
        "  model.add(Conv2D(\n",
        "      hp.Int(\"conv_2\", min_value=128, max_value = 256, \n",
        "             step=32), (3, 3), padding='same', input_shape = inputShape))\n",
        "  model.add(Activation(\"relu\"))\n",
        "  model.add(BatchNormalization(axis=chanDim))\n",
        "  model.add(MaxPooling2D(pool_size=(2, 2)))\n",
        "\n",
        "  model.add(Flatten())\n",
        "  model.add(Dense(hp.Int(\"dense_units1\", min_value=256, max_value = 786, step = 256)))\n",
        "  model.add(Dense(hp.Int(\"dense_units2\", min_value = 256, max_value = 786, step = 256)))\n",
        "  model.add(Activation(\"relu\"))\n",
        "  model.add(BatchNormalization())\n",
        "  model.add(Dropout(0.5))\n",
        "\n",
        "  model.add(Dense(10))\n",
        "  model.add(Activation(\"softmax\"))\n",
        "\n",
        "  #lr = hp.Choice(\"learning_rate\", values=[1e-1, 1e-2, 1e-3, 1e-4])\n",
        "  #opt = Adam(learning_rate=lr)\n",
        "\n",
        "  model.compile(loss=\"sparse_categorical_crossentropy\",\n",
        "                metrics=[\"accuracy\"])\n",
        "  return model"
      ],
      "metadata": {
        "id": "ZYpoZhQ6e7fc"
      },
      "execution_count": 4,
      "outputs": []
    },
    {
      "cell_type": "code",
      "source": [
        "((train_x, train_y), (test_x, test_y)) = cifar10.load_data()"
      ],
      "metadata": {
        "colab": {
          "base_uri": "https://localhost:8080/"
        },
        "id": "AlmCq3iZiPMO",
        "outputId": "7cebf778-1da3-4843-bc5e-d57f38280819"
      },
      "execution_count": 5,
      "outputs": [
        {
          "output_type": "stream",
          "name": "stdout",
          "text": [
            "Downloading data from https://www.cs.toronto.edu/~kriz/cifar-10-python.tar.gz\n",
            "170498071/170498071 [==============================] - 6s 0us/step\n"
          ]
        }
      ]
    },
    {
      "cell_type": "code",
      "source": [
        "!pip install keras_tuner"
      ],
      "metadata": {
        "colab": {
          "base_uri": "https://localhost:8080/"
        },
        "id": "3sbhylJaiWu5",
        "outputId": "68dec326-265a-43a9-c081-e49a40287169"
      },
      "execution_count": 6,
      "outputs": [
        {
          "output_type": "stream",
          "name": "stdout",
          "text": [
            "Looking in indexes: https://pypi.org/simple, https://us-python.pkg.dev/colab-wheels/public/simple/\n",
            "Collecting keras_tuner\n",
            "  Downloading keras_tuner-1.3.5-py3-none-any.whl (176 kB)\n",
            "\u001b[2K     \u001b[90m━━━━━━━━━━━━━━━━━━━━━━━━━━━━━━━━━━━━━━\u001b[0m \u001b[32m176.1/176.1 kB\u001b[0m \u001b[31m11.3 MB/s\u001b[0m eta \u001b[36m0:00:00\u001b[0m\n",
            "\u001b[?25hRequirement already satisfied: packaging in /usr/local/lib/python3.10/dist-packages (from keras_tuner) (23.1)\n",
            "Requirement already satisfied: requests in /usr/local/lib/python3.10/dist-packages (from keras_tuner) (2.27.1)\n",
            "Collecting kt-legacy (from keras_tuner)\n",
            "  Downloading kt_legacy-1.0.5-py3-none-any.whl (9.6 kB)\n",
            "Requirement already satisfied: urllib3<1.27,>=1.21.1 in /usr/local/lib/python3.10/dist-packages (from requests->keras_tuner) (1.26.15)\n",
            "Requirement already satisfied: certifi>=2017.4.17 in /usr/local/lib/python3.10/dist-packages (from requests->keras_tuner) (2022.12.7)\n",
            "Requirement already satisfied: charset-normalizer~=2.0.0 in /usr/local/lib/python3.10/dist-packages (from requests->keras_tuner) (2.0.12)\n",
            "Requirement already satisfied: idna<4,>=2.5 in /usr/local/lib/python3.10/dist-packages (from requests->keras_tuner) (3.4)\n",
            "Installing collected packages: kt-legacy, keras_tuner\n",
            "Successfully installed keras_tuner-1.3.5 kt-legacy-1.0.5\n"
          ]
        }
      ]
    },
    {
      "cell_type": "code",
      "source": [
        "args  = {\n",
        "    \"tuner\": \"BayesianOptimization\"\n",
        "}"
      ],
      "metadata": {
        "id": "7R98LEDlj4tM"
      },
      "execution_count": 7,
      "outputs": []
    },
    {
      "cell_type": "code",
      "source": [
        "from sklearn import preprocessing\n",
        "lb = preprocessing.LabelBinarizer()\n",
        "train_y_lb = lb.fit_transform(train_y)\n",
        "test_y_lb = lb.transform(test_y)"
      ],
      "metadata": {
        "id": "3Ik3dumVsVMC"
      },
      "execution_count": 7,
      "outputs": []
    },
    {
      "cell_type": "code",
      "source": [
        "train_y_lb.shape"
      ],
      "metadata": {
        "colab": {
          "base_uri": "https://localhost:8080/"
        },
        "id": "cR_Kym20svWu",
        "outputId": "619be71f-b591-457d-efe5-3a8b7b0248ad"
      },
      "execution_count": 8,
      "outputs": [
        {
          "output_type": "execute_result",
          "data": {
            "text/plain": [
              "(50000, 10)"
            ]
          },
          "metadata": {},
          "execution_count": 8
        }
      ]
    },
    {
      "cell_type": "code",
      "source": [
        "#import keras_tuner as kt\n",
        "#import keras_tuner as kt\n",
        "from tensorflow.keras.optimizers import Adam\n",
        "from keras_tuner.tuners import Hyperband\n",
        "tuner = Hyperband(\n",
        "    model_build,\n",
        "    objective='val_accuracy',\n",
        "    max_epochs=10)"
      ],
      "metadata": {
        "id": "CaE1sKCrnB1X"
      },
      "execution_count": 10,
      "outputs": []
    },
    {
      "cell_type": "code",
      "source": [
        "tuner.search(\n",
        "    x = train_x, y = train_y,\n",
        "    validation_data = (test_x, test_y),\n",
        "    batch_size = 64,\n",
        "    epochs = 30)"
      ],
      "metadata": {
        "id": "hKAN9VeXsGCX",
        "colab": {
          "base_uri": "https://localhost:8080/"
        },
        "outputId": "167c5cc7-127f-4663-ac8d-70cf95b53560"
      },
      "execution_count": 11,
      "outputs": [
        {
          "output_type": "stream",
          "name": "stdout",
          "text": [
            "Trial 30 Complete [00h 02m 24s]\n",
            "val_accuracy: 0.6922000050544739\n",
            "\n",
            "Best val_accuracy So Far: 0.7228000164031982\n",
            "Total elapsed time: 00h 26m 19s\n"
          ]
        }
      ]
    },
    {
      "cell_type": "code",
      "source": [
        "hp_best = tuner.get_best_hyperparameters(num_trials=1)[0]"
      ],
      "metadata": {
        "id": "nlJlEcTvxs-8"
      },
      "execution_count": 12,
      "outputs": []
    },
    {
      "cell_type": "code",
      "source": [
        "print(\"conv_1 layer: {}\".format(\n",
        "    hp_best.get(\"conv_1\")\n",
        "))\n",
        "print(\"conv_2 layer: {}\".format(\n",
        "  hp_best.get('conv_2')))\n",
        "print(\"dense layer1: {}\".format(\n",
        "  hp_best.get('dense_units1')))\n",
        "print(\"dense layer1: {}\".format(\n",
        "  hp_best.get('dense_units2')))\n",
        "print(\"learning rate: {}\".format(\n",
        "  hp_best.get('learning_rate')))"
      ],
      "metadata": {
        "colab": {
          "base_uri": "https://localhost:8080/"
        },
        "id": "cYdN66tR8P3I",
        "outputId": "5b8d50a0-e0aa-4dc2-947b-c9fc8138ad4f"
      },
      "execution_count": 13,
      "outputs": [
        {
          "output_type": "stream",
          "name": "stdout",
          "text": [
            "conv_1 layer: 96\n",
            "conv_2 layer: 192\n",
            "dense layer1: 768\n",
            "dense layer1: 768\n",
            "learning rate: 0.001\n"
          ]
        }
      ]
    },
    {
      "cell_type": "code",
      "source": [
        "hp_best"
      ],
      "metadata": {
        "colab": {
          "base_uri": "https://localhost:8080/"
        },
        "id": "5cmj44238h3t",
        "outputId": "351baead-677c-41cb-85e5-09a390384d3c"
      },
      "execution_count": 14,
      "outputs": [
        {
          "output_type": "execute_result",
          "data": {
            "text/plain": [
              "<keras_tuner.engine.hyperparameters.hyperparameters.HyperParameters at 0x7f908162e2c0>"
            ]
          },
          "metadata": {},
          "execution_count": 14
        }
      ]
    },
    {
      "cell_type": "code",
      "source": [
        "model = tuner.hypermodel.build(hp_best)\n",
        "opt = Adam(learning_rate=0.001)\n",
        "H = model.fit(x = train_x, y = train_y,\n",
        "              validation_data = (test_x, test_y), batch_size = 64,\n",
        "              epochs = 50, verbose=1)"
      ],
      "metadata": {
        "colab": {
          "base_uri": "https://localhost:8080/"
        },
        "id": "qsVOtWaR8i7u",
        "outputId": "6b55664a-532f-4995-87c6-fb2d8e92fbf9"
      },
      "execution_count": 17,
      "outputs": [
        {
          "output_type": "stream",
          "name": "stdout",
          "text": [
            "Epoch 1/50\n",
            "782/782 [==============================] - 12s 12ms/step - loss: 1.4307 - accuracy: 0.5224 - val_loss: 2.1786 - val_accuracy: 0.4092\n",
            "Epoch 2/50\n",
            "782/782 [==============================] - 9s 12ms/step - loss: 0.9423 - accuracy: 0.6728 - val_loss: 1.4268 - val_accuracy: 0.5496\n",
            "Epoch 3/50\n",
            "782/782 [==============================] - 10s 13ms/step - loss: 0.7860 - accuracy: 0.7290 - val_loss: 1.0399 - val_accuracy: 0.6531\n",
            "Epoch 4/50\n",
            "782/782 [==============================] - 9s 12ms/step - loss: 0.6758 - accuracy: 0.7627 - val_loss: 1.1324 - val_accuracy: 0.6341\n",
            "Epoch 5/50\n",
            "782/782 [==============================] - 9s 12ms/step - loss: 0.5863 - accuracy: 0.7985 - val_loss: 1.3240 - val_accuracy: 0.6449\n",
            "Epoch 6/50\n",
            "782/782 [==============================] - 10s 13ms/step - loss: 0.5200 - accuracy: 0.8209 - val_loss: 1.3218 - val_accuracy: 0.6321\n",
            "Epoch 7/50\n",
            "782/782 [==============================] - 9s 12ms/step - loss: 0.4617 - accuracy: 0.8412 - val_loss: 3.2178 - val_accuracy: 0.4511\n",
            "Epoch 8/50\n",
            "782/782 [==============================] - 9s 12ms/step - loss: 0.3961 - accuracy: 0.8640 - val_loss: 1.0032 - val_accuracy: 0.7033\n",
            "Epoch 9/50\n",
            "782/782 [==============================] - 9s 12ms/step - loss: 0.3474 - accuracy: 0.8783 - val_loss: 1.0608 - val_accuracy: 0.7067\n",
            "Epoch 10/50\n",
            "782/782 [==============================] - 9s 12ms/step - loss: 0.2985 - accuracy: 0.8964 - val_loss: 1.2846 - val_accuracy: 0.6695\n",
            "Epoch 11/50\n",
            "782/782 [==============================] - 9s 12ms/step - loss: 0.2635 - accuracy: 0.9087 - val_loss: 1.3899 - val_accuracy: 0.6718\n",
            "Epoch 12/50\n",
            "782/782 [==============================] - 9s 12ms/step - loss: 0.2319 - accuracy: 0.9186 - val_loss: 1.4466 - val_accuracy: 0.6797\n",
            "Epoch 13/50\n",
            "782/782 [==============================] - 10s 13ms/step - loss: 0.2067 - accuracy: 0.9270 - val_loss: 3.1948 - val_accuracy: 0.5182\n",
            "Epoch 14/50\n",
            "782/782 [==============================] - 9s 11ms/step - loss: 0.1879 - accuracy: 0.9351 - val_loss: 1.3114 - val_accuracy: 0.7085\n",
            "Epoch 15/50\n",
            "782/782 [==============================] - 9s 12ms/step - loss: 0.1638 - accuracy: 0.9431 - val_loss: 2.8076 - val_accuracy: 0.5882\n",
            "Epoch 16/50\n",
            "782/782 [==============================] - 9s 12ms/step - loss: 0.1612 - accuracy: 0.9442 - val_loss: 1.8077 - val_accuracy: 0.6199\n",
            "Epoch 17/50\n",
            "782/782 [==============================] - 9s 11ms/step - loss: 0.1409 - accuracy: 0.9504 - val_loss: 1.4448 - val_accuracy: 0.7299\n",
            "Epoch 18/50\n",
            "782/782 [==============================] - 9s 12ms/step - loss: 0.1260 - accuracy: 0.9560 - val_loss: 2.0522 - val_accuracy: 0.6608\n",
            "Epoch 19/50\n",
            "782/782 [==============================] - 9s 12ms/step - loss: 0.1280 - accuracy: 0.9562 - val_loss: 2.2143 - val_accuracy: 0.6462\n",
            "Epoch 20/50\n",
            "782/782 [==============================] - 9s 11ms/step - loss: 0.1174 - accuracy: 0.9600 - val_loss: 1.7758 - val_accuracy: 0.6736\n",
            "Epoch 21/50\n",
            "782/782 [==============================] - 9s 12ms/step - loss: 0.1121 - accuracy: 0.9623 - val_loss: 3.0595 - val_accuracy: 0.5841\n",
            "Epoch 22/50\n",
            "782/782 [==============================] - 9s 12ms/step - loss: 0.1025 - accuracy: 0.9665 - val_loss: 1.6440 - val_accuracy: 0.7347\n",
            "Epoch 23/50\n",
            "782/782 [==============================] - 9s 11ms/step - loss: 0.0981 - accuracy: 0.9670 - val_loss: 1.7443 - val_accuracy: 0.7118\n",
            "Epoch 24/50\n",
            "782/782 [==============================] - 9s 12ms/step - loss: 0.0921 - accuracy: 0.9691 - val_loss: 1.4908 - val_accuracy: 0.7359\n",
            "Epoch 25/50\n",
            "782/782 [==============================] - 9s 12ms/step - loss: 0.0868 - accuracy: 0.9710 - val_loss: 1.8901 - val_accuracy: 0.6545\n",
            "Epoch 26/50\n",
            "782/782 [==============================] - 9s 11ms/step - loss: 0.0880 - accuracy: 0.9705 - val_loss: 1.8133 - val_accuracy: 0.7088\n",
            "Epoch 27/50\n",
            "782/782 [==============================] - 10s 13ms/step - loss: 0.0813 - accuracy: 0.9729 - val_loss: 2.6010 - val_accuracy: 0.6120\n",
            "Epoch 28/50\n",
            "782/782 [==============================] - 10s 12ms/step - loss: 0.0823 - accuracy: 0.9721 - val_loss: 1.9144 - val_accuracy: 0.6998\n",
            "Epoch 29/50\n",
            "782/782 [==============================] - 10s 12ms/step - loss: 0.0811 - accuracy: 0.9738 - val_loss: 2.2381 - val_accuracy: 0.6807\n",
            "Epoch 30/50\n",
            "782/782 [==============================] - 9s 11ms/step - loss: 0.0728 - accuracy: 0.9762 - val_loss: 1.9062 - val_accuracy: 0.7155\n",
            "Epoch 31/50\n",
            "782/782 [==============================] - 9s 12ms/step - loss: 0.0681 - accuracy: 0.9770 - val_loss: 1.8808 - val_accuracy: 0.7238\n",
            "Epoch 32/50\n",
            "782/782 [==============================] - 9s 12ms/step - loss: 0.0665 - accuracy: 0.9782 - val_loss: 3.4956 - val_accuracy: 0.6274\n",
            "Epoch 33/50\n",
            "782/782 [==============================] - 9s 11ms/step - loss: 0.0673 - accuracy: 0.9785 - val_loss: 1.9554 - val_accuracy: 0.7200\n",
            "Epoch 34/50\n",
            "782/782 [==============================] - 9s 12ms/step - loss: 0.0611 - accuracy: 0.9805 - val_loss: 2.0881 - val_accuracy: 0.6907\n",
            "Epoch 35/50\n",
            "782/782 [==============================] - 10s 13ms/step - loss: 0.0616 - accuracy: 0.9800 - val_loss: 2.7374 - val_accuracy: 0.6635\n",
            "Epoch 36/50\n",
            "782/782 [==============================] - 9s 11ms/step - loss: 0.0609 - accuracy: 0.9800 - val_loss: 1.9722 - val_accuracy: 0.7279\n",
            "Epoch 37/50\n",
            "782/782 [==============================] - 9s 12ms/step - loss: 0.0627 - accuracy: 0.9807 - val_loss: 2.0683 - val_accuracy: 0.7128\n",
            "Epoch 38/50\n",
            "782/782 [==============================] - 9s 12ms/step - loss: 0.0533 - accuracy: 0.9819 - val_loss: 2.2291 - val_accuracy: 0.7129\n",
            "Epoch 39/50\n",
            "782/782 [==============================] - 9s 11ms/step - loss: 0.0555 - accuracy: 0.9827 - val_loss: 2.4901 - val_accuracy: 0.7018\n",
            "Epoch 40/50\n",
            "782/782 [==============================] - 9s 12ms/step - loss: 0.0519 - accuracy: 0.9833 - val_loss: 2.1977 - val_accuracy: 0.7231\n",
            "Epoch 41/50\n",
            "782/782 [==============================] - 9s 12ms/step - loss: 0.0505 - accuracy: 0.9833 - val_loss: 2.0045 - val_accuracy: 0.7239\n",
            "Epoch 42/50\n",
            "782/782 [==============================] - 9s 11ms/step - loss: 0.0504 - accuracy: 0.9843 - val_loss: 3.1002 - val_accuracy: 0.6642\n",
            "Epoch 43/50\n",
            "782/782 [==============================] - 9s 12ms/step - loss: 0.0511 - accuracy: 0.9840 - val_loss: 2.2534 - val_accuracy: 0.7169\n",
            "Epoch 44/50\n",
            "782/782 [==============================] - 9s 12ms/step - loss: 0.0504 - accuracy: 0.9846 - val_loss: 2.2480 - val_accuracy: 0.7225\n",
            "Epoch 45/50\n",
            "782/782 [==============================] - 9s 11ms/step - loss: 0.0476 - accuracy: 0.9847 - val_loss: 2.0083 - val_accuracy: 0.7440\n",
            "Epoch 46/50\n",
            "782/782 [==============================] - 9s 12ms/step - loss: 0.0455 - accuracy: 0.9853 - val_loss: 2.2283 - val_accuracy: 0.7169\n",
            "Epoch 47/50\n",
            "782/782 [==============================] - 9s 12ms/step - loss: 0.0458 - accuracy: 0.9860 - val_loss: 3.6712 - val_accuracy: 0.6340\n",
            "Epoch 48/50\n",
            "782/782 [==============================] - 9s 12ms/step - loss: 0.0478 - accuracy: 0.9854 - val_loss: 2.3555 - val_accuracy: 0.7247\n",
            "Epoch 49/50\n",
            "782/782 [==============================] - 10s 13ms/step - loss: 0.0446 - accuracy: 0.9864 - val_loss: 2.4462 - val_accuracy: 0.6954\n",
            "Epoch 50/50\n",
            "782/782 [==============================] - 9s 12ms/step - loss: 0.0423 - accuracy: 0.9864 - val_loss: 2.2708 - val_accuracy: 0.7243\n"
          ]
        }
      ]
    },
    {
      "cell_type": "code",
      "source": [
        "predictions = model.predict(x=test_x, batch_size=64)"
      ],
      "metadata": {
        "colab": {
          "base_uri": "https://localhost:8080/"
        },
        "id": "njMGwLJ1-2YP",
        "outputId": "0d6bd7ab-cef6-479f-bab8-616f9e1a21ac"
      },
      "execution_count": 18,
      "outputs": [
        {
          "output_type": "stream",
          "name": "stdout",
          "text": [
            "157/157 [==============================] - 1s 3ms/step\n"
          ]
        }
      ]
    },
    {
      "cell_type": "code",
      "source": [
        "print(classification_report(test_y.reshape(10000, ),\n",
        "\tpredictions.argmax(axis=1)))"
      ],
      "metadata": {
        "colab": {
          "base_uri": "https://localhost:8080/"
        },
        "id": "QZ9b42G6_PMo",
        "outputId": "6899a20b-2ab9-484d-b0ce-437dcb2f53be"
      },
      "execution_count": 19,
      "outputs": [
        {
          "output_type": "stream",
          "name": "stdout",
          "text": [
            "              precision    recall  f1-score   support\n",
            "\n",
            "           0       0.81      0.70      0.75      1000\n",
            "           1       0.91      0.77      0.84      1000\n",
            "           2       0.58      0.69      0.63      1000\n",
            "           3       0.52      0.57      0.55      1000\n",
            "           4       0.68      0.70      0.69      1000\n",
            "           5       0.64      0.61      0.62      1000\n",
            "           6       0.77      0.78      0.78      1000\n",
            "           7       0.76      0.80      0.78      1000\n",
            "           8       0.84      0.80      0.82      1000\n",
            "           9       0.81      0.82      0.81      1000\n",
            "\n",
            "    accuracy                           0.72     10000\n",
            "   macro avg       0.73      0.72      0.73     10000\n",
            "weighted avg       0.73      0.72      0.73     10000\n",
            "\n"
          ]
        }
      ]
    },
    {
      "cell_type": "code",
      "source": [
        "plot_h(H)"
      ],
      "metadata": {
        "colab": {
          "base_uri": "https://localhost:8080/",
          "height": 492
        },
        "id": "9eAdCAzVCYwr",
        "outputId": "d498b2e9-6569-45e5-ff7c-b8c927760a95"
      },
      "execution_count": 20,
      "outputs": [
        {
          "output_type": "display_data",
          "data": {
            "text/plain": [
              "<Figure size 600x500 with 1 Axes>"
            ],
            "image/png": "[encoded data removed]"
          },
          "metadata": {}
        }
      ]
    },
    {
      "cell_type": "code",
      "source": [],
      "metadata": {
        "id": "Yz9Z8dSECk9C"
      },
      "execution_count": null,
      "outputs": []
    }
  ]
}